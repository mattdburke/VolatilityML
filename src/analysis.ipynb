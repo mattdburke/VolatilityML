{
 "cells": [
  {
   "cell_type": "code",
   "execution_count": 13,
   "metadata": {},
   "outputs": [],
   "source": [
    "\"\"\"\n",
    "This script implements volatility models on clean data and produces estimates\n",
    "\"\"\"\n",
    "\n",
    "import pandas as pd\n",
    "import numpy as np\n",
    "from sklearn.metrics import mean_absolute_error, mean_squared_error\n",
    "from arch import arch_model\n",
    "import math"
   ]
  },
  {
   "cell_type": "code",
   "execution_count": 14,
   "metadata": {},
   "outputs": [],
   "source": [
    "def loadData(ticker):\n",
    "    '''\n",
    "    Load clean data and produce return series for analysis\n",
    "\n",
    "    '''\n",
    "    df = pd.read_csv(\"../clean/\"+ticker+\"_data.csv\")\n",
    "    Ret = df['Return']\n",
    "    Ret = Ret[1:]\n",
    "    return Ret"
   ]
  },
  {
   "cell_type": "code",
   "execution_count": 15,
   "metadata": {},
   "outputs": [],
   "source": [
    "def evaluate(observation, forecast): \n",
    "    # Call sklearn function to calculate MAE\n",
    "    mae = mean_absolute_error(observation, forecast)\n",
    "    #print(f'Mean Absolute Error (MAE): {round(mae,3)}')\n",
    "    # Call sklearn function to calculate MSE\n",
    "    mse = mean_squared_error(observation, forecast)\n",
    "    #print(f'Mean Squared Error (MSE): {round(mse,3)}')\n",
    "    return math.sqrt(mse)"
   ]
  },
  {
   "cell_type": "code",
   "execution_count": 16,
   "metadata": {},
   "outputs": [
    {
     "name": "stdout",
     "output_type": "stream",
     "text": [
      "GARCH BIC: 15263.707108947403\n",
      "GJR-GARCH BIC: 15042.02801735152\n",
      "EGARCH BIC: 15000.8844927105\n",
      "5.097\n",
      "4.92\n",
      "4.876\n"
     ]
    }
   ],
   "source": [
    "def modelGarch(ticker):\n",
    "    '''\n",
    "    Produce conditional volatility estimates from the three GARCH models.\n",
    "    '''\n",
    "    # Use loadData to produce the return list from the clean csv\n",
    "    Ret = loadData(ticker)\n",
    "    # Apply the GARCH specification\n",
    "    skewt = arch_model(Ret, p=1, q=1,mean=\"constant\",vol=\"GARCH\",dist=\"skewt\")    \n",
    "    GJR = arch_model(Ret, p=1, q=1, o=1, mean=\"constant\",vol=\"GARCH\",dist=\"skewt\")    \n",
    "    E = arch_model(Ret, p=1, q=1, o=1, mean=\"constant\",vol=\"EGARCH\",dist=\"skewt\")    \n",
    "    # Fit the model\n",
    "    skewtResult = skewt.fit(disp=\"off\")\n",
    "    GJRResult = GJR.fit(disp=\"off\")\n",
    "    EResult = E.fit(disp=\"off\")\n",
    "    return {\"Ret\": Ret, \"SkewT\": skewtResult, \"GJR\": GJRResult, \"E\": EResult}\n",
    "\n",
    "def writeGarchVolatility(ticker):\n",
    "    '''\n",
    "    Processes conditional volatility estimates into csv files\n",
    "    '''\n",
    "    Ret = modelGarch(ticker)['Ret']\n",
    "    skewtResult = modelGarch(ticker)['SkewT']\n",
    "    GJRResult = modelGarch(ticker)['GJR']\n",
    "    EResult = modelGarch(ticker)['E']\n",
    "        # Take the conditional volatility from the model fit\n",
    "    skewtVolatility = skewtResult.conditional_volatility\n",
    "    GJRVolatility = GJRResult.conditional_volatility\n",
    "    EVolatility = EResult.conditional_volatility\n",
    "\n",
    "    garchVolatilityData = pd.concat([Ret, skewtVolatility, GJRVolatility, EVolatility], axis=1, names=['Return', 'SkewT', 'GJR', 'E'])\n",
    "    garchVolatilityData.columns = ['Return', 'SkewT', 'GJR', 'E']\n",
    "    garchVolatilityData.to_csv(\"../estimates/GARCHCondVol_\" + ticker + \".csv\")\n",
    "\n",
    "# writeGarchVolatility(\"SPY\")\n",
    "# writeGarchVolatility(\"BTC-USD\")\n",
    "\n",
    "def resultGarch(ticker):\n",
    "    '''\n",
    "    Processes conditional volatility estimates into csv files\n",
    "    '''\n",
    "    Ret = modelGarch(ticker)['Ret']\n",
    "    skewtResult = modelGarch(ticker)['SkewT']\n",
    "    GJRResult = modelGarch(ticker)['GJR']\n",
    "    EResult = modelGarch(ticker)['E']\n",
    "        # Take the conditional volatility from the model fit\n",
    "    skewtVolatility = skewtResult.conditional_volatility\n",
    "    GJRVolatility = GJRResult.conditional_volatility\n",
    "    EVolatility = EResult.conditional_volatility\n",
    "    print(f'GARCH BIC: {skewtResult.bic}')\n",
    "    print(f'GJR-GARCH BIC: {GJRResult.bic}')\n",
    "    print(f'EGARCH BIC: {EResult.bic}')\n",
    "    print (round(evaluate(Ret.sub(Ret.mean()).pow(2), skewtVolatility**2), 3))\n",
    "    print (round(evaluate(Ret.sub(Ret.mean()).pow(2), GJRVolatility**2), 3))\n",
    "    print (round(evaluate(Ret.sub(Ret.mean()).pow(2), EVolatility**2), 3))\n",
    "    return {\"GARCH_BIC\": skewtResult.bic, \n",
    "        \"GJR-GARCH BIC\": GJRResult.bic,\n",
    "        \"EGARCH BIC\": EResult.bic,\n",
    "        \n",
    "\n",
    "resultGarch(\"SPY\")\n",
    "\n"
   ]
  }
 ],
 "metadata": {
  "kernelspec": {
   "display_name": "Python 3.9.7 ('base')",
   "language": "python",
   "name": "python3"
  },
  "language_info": {
   "codemirror_mode": {
    "name": "ipython",
    "version": 3
   },
   "file_extension": ".py",
   "mimetype": "text/x-python",
   "name": "python",
   "nbconvert_exporter": "python",
   "pygments_lexer": "ipython3",
   "version": "3.9.7"
  },
  "orig_nbformat": 4,
  "vscode": {
   "interpreter": {
    "hash": "651add51c3cbc36662d3bed529119182c196c96833ac7d541c272038af8218b3"
   }
  }
 },
 "nbformat": 4,
 "nbformat_minor": 2
}
