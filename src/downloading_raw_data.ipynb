{
 "cells": [
  {
   "cell_type": "code",
   "execution_count": 7,
   "metadata": {},
   "outputs": [
    {
     "name": "stdout",
     "output_type": "stream",
     "text": [
      "[*********************100%***********************]  1 of 1 completed\n",
      "[*********************100%***********************]  1 of 1 completed\n"
     ]
    }
   ],
   "source": [
    "\"\"\"\n",
    "This script processes the data needed for analysis\n",
    "\"\"\"\n",
    "\n",
    "#!pip install yfinance\n",
    "import yfinance as yf\n",
    "\n",
    "\n",
    "def download(ticker, start_date, end_data):\n",
    "    '''\n",
    "    Collect and store raw data from Yahoo Finance. \n",
    "    \n",
    "    ticker: this variable should be as a string in quotation marks\n",
    "\n",
    "    start_date: this variable should be as a string in quotation marks, in the format 'YYYY-MM-DD'\n",
    "\n",
    "    end_date: this variable should be as a string in quotation marks, in the format 'YYYY-MM-DD'\n",
    "\n",
    "    '''\n",
    "    \n",
    "    df = yf.download(ticker, start=start_date, end=end_data)\n",
    "    df.to_csv(\"../raw/\"+ticker+'_data.csv')\n",
    "\n",
    "download('SPY', '2000-01-01', '2022-06-01')\n",
    "download('BTC-USD', '2000-01-01', '2022-06-01')"
   ]
  }
 ],
 "metadata": {
  "kernelspec": {
   "display_name": "Python 3.9.7 ('base')",
   "language": "python",
   "name": "python3"
  },
  "language_info": {
   "codemirror_mode": {
    "name": "ipython",
    "version": 3
   },
   "file_extension": ".py",
   "mimetype": "text/x-python",
   "name": "python",
   "nbconvert_exporter": "python",
   "pygments_lexer": "ipython3",
   "version": "3.9.7"
  },
  "orig_nbformat": 4,
  "vscode": {
   "interpreter": {
    "hash": "651add51c3cbc36662d3bed529119182c196c96833ac7d541c272038af8218b3"
   }
  }
 },
 "nbformat": 4,
 "nbformat_minor": 2
}
