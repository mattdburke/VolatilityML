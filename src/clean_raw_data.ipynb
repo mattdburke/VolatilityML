{
 "cells": [
  {
   "cell_type": "code",
   "execution_count": 1,
   "metadata": {},
   "outputs": [],
   "source": [
    "\"\"\"\n",
    "This script cleans the data needed for analysis\n",
    "\"\"\"\n",
    "\n",
    "import pandas as pd\n",
    "\n",
    "def clean(ticker):\n",
    "    '''\n",
    "    Read the csv from raw and process into a panda. \n",
    "\n",
    "    This function calculates the percentage change and converts into a \n",
    "    \n",
    "    numpy array for analysis\n",
    "\n",
    "    '''\n",
    "    \n",
    "    df = pd.read_csv(\"../raw/\"+ticker+\"_data.csv\")\n",
    "    df['Return'] = df['Adj Close'].pct_change()\n",
    "    df = df.set_index(\"Date\")\n",
    "    df['Return'] = 100 * (df['Return'])\n",
    "    df.to_csv(\"../clean/\"+ticker+'_data.csv')\n",
    "\n",
    "clean(\"BTC-USD\")\n",
    "clean(\"SPY\")"
   ]
  }
 ],
 "metadata": {
  "kernelspec": {
   "display_name": "Python 3.9.7 ('base')",
   "language": "python",
   "name": "python3"
  },
  "language_info": {
   "codemirror_mode": {
    "name": "ipython",
    "version": 3
   },
   "file_extension": ".py",
   "mimetype": "text/x-python",
   "name": "python",
   "nbconvert_exporter": "python",
   "pygments_lexer": "ipython3",
   "version": "3.9.7"
  },
  "orig_nbformat": 4,
  "vscode": {
   "interpreter": {
    "hash": "651add51c3cbc36662d3bed529119182c196c96833ac7d541c272038af8218b3"
   }
  }
 },
 "nbformat": 4,
 "nbformat_minor": 2
}
